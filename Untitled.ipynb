{
 "cells": [
  {
   "cell_type": "code",
   "execution_count": 2,
   "id": "a601194d",
   "metadata": {},
   "outputs": [
    {
     "name": "stdout",
     "output_type": "stream",
     "text": [
      "Collecting qiskit\n",
      "  Obtaining dependency information for qiskit from https://files.pythonhosted.org/packages/21/23/51152bd3cfd912b1587dff8c3e3535ab762c336b48898d71bcc1283a1675/qiskit-0.44.2-py3-none-any.whl.metadata\n",
      "  Using cached qiskit-0.44.2-py3-none-any.whl.metadata (8.2 kB)\n",
      "Collecting qiskit-terra==0.25.2.1 (from qiskit)\n",
      "  Obtaining dependency information for qiskit-terra==0.25.2.1 from https://files.pythonhosted.org/packages/47/ab/50bd1555985b8b4c8339ef7c9f37ea85d95d197290ccd6a662f9771b8f2b/qiskit_terra-0.25.2.1-cp38-abi3-win_amd64.whl.metadata\n",
      "  Using cached qiskit_terra-0.25.2.1-cp38-abi3-win_amd64.whl.metadata (9.2 kB)\n",
      "Collecting rustworkx>=0.13.0 (from qiskit-terra==0.25.2.1->qiskit)\n",
      "  Obtaining dependency information for rustworkx>=0.13.0 from https://files.pythonhosted.org/packages/4b/58/c5c3168c5b30e1e1c00108997b4c070f68cd63aed862c9ccb19f2332db7c/rustworkx-0.13.2-cp310-cp310-win_amd64.whl.metadata\n",
      "  Downloading rustworkx-0.13.2-cp310-cp310-win_amd64.whl.metadata (10 kB)\n",
      "Requirement already satisfied: numpy>=1.17 in c:\\users\\anura\\appdata\\local\\programs\\python\\python310\\lib\\site-packages (from qiskit-terra==0.25.2.1->qiskit) (1.24.2)\n",
      "Collecting ply>=3.10 (from qiskit-terra==0.25.2.1->qiskit)\n",
      "  Using cached ply-3.11-py2.py3-none-any.whl (49 kB)\n",
      "Collecting psutil>=5 (from qiskit-terra==0.25.2.1->qiskit)\n",
      "  Obtaining dependency information for psutil>=5 from https://files.pythonhosted.org/packages/c5/b2/699c50fe0b0402a1ccb64ad71313bcb740e735008dd3ab9abeddbe148e45/psutil-5.9.6-cp37-abi3-win_amd64.whl.metadata\n",
      "  Using cached psutil-5.9.6-cp37-abi3-win_amd64.whl.metadata (22 kB)\n",
      "Requirement already satisfied: scipy>=1.5 in c:\\users\\anura\\appdata\\local\\programs\\python\\python310\\lib\\site-packages (from qiskit-terra==0.25.2.1->qiskit) (1.8.0)\n",
      "Requirement already satisfied: sympy>=1.3 in c:\\users\\anura\\appdata\\local\\programs\\python\\python310\\lib\\site-packages (from qiskit-terra==0.25.2.1->qiskit) (1.10.1)\n",
      "Collecting dill>=0.3 (from qiskit-terra==0.25.2.1->qiskit)\n",
      "  Obtaining dependency information for dill>=0.3 from https://files.pythonhosted.org/packages/f5/3a/74a29b11cf2cdfcd6ba89c0cecd70b37cd1ba7b77978ce611eb7a146a832/dill-0.3.7-py3-none-any.whl.metadata\n",
      "  Using cached dill-0.3.7-py3-none-any.whl.metadata (9.9 kB)\n",
      "Requirement already satisfied: python-dateutil>=2.8.0 in c:\\users\\anura\\appdata\\local\\programs\\python\\python310\\lib\\site-packages (from qiskit-terra==0.25.2.1->qiskit) (2.8.2)\n",
      "Collecting stevedore>=3.0.0 (from qiskit-terra==0.25.2.1->qiskit)\n",
      "  Obtaining dependency information for stevedore>=3.0.0 from https://files.pythonhosted.org/packages/4b/68/e739fd061b0aba464bef8e8be48428b2aabbfb3f2f8f2f8ca257363ee6b2/stevedore-5.1.0-py3-none-any.whl.metadata\n",
      "  Using cached stevedore-5.1.0-py3-none-any.whl.metadata (2.2 kB)\n",
      "Requirement already satisfied: typing-extensions in c:\\users\\anura\\appdata\\local\\programs\\python\\python310\\lib\\site-packages (from qiskit-terra==0.25.2.1->qiskit) (4.1.1)\n",
      "Requirement already satisfied: six>=1.5 in c:\\users\\anura\\appdata\\local\\programs\\python\\python310\\lib\\site-packages (from python-dateutil>=2.8.0->qiskit-terra==0.25.2.1->qiskit) (1.16.0)\n",
      "Collecting pbr!=2.1.0,>=2.0.0 (from stevedore>=3.0.0->qiskit-terra==0.25.2.1->qiskit)\n",
      "  Using cached pbr-5.11.1-py2.py3-none-any.whl (112 kB)\n",
      "Requirement already satisfied: mpmath>=0.19 in c:\\users\\anura\\appdata\\local\\programs\\python\\python310\\lib\\site-packages (from sympy>=1.3->qiskit-terra==0.25.2.1->qiskit) (1.2.1)\n",
      "Using cached qiskit-0.44.2-py3-none-any.whl (8.2 kB)\n",
      "Using cached qiskit_terra-0.25.2.1-cp38-abi3-win_amd64.whl (5.1 MB)\n",
      "Using cached dill-0.3.7-py3-none-any.whl (115 kB)\n",
      "Using cached psutil-5.9.6-cp37-abi3-win_amd64.whl (252 kB)\n",
      "Downloading rustworkx-0.13.2-cp310-cp310-win_amd64.whl (1.4 MB)\n",
      "   ---------------------------------------- 1.4/1.4 MB 2.2 MB/s eta 0:00:00\n",
      "Using cached stevedore-5.1.0-py3-none-any.whl (49 kB)\n",
      "Installing collected packages: ply, rustworkx, psutil, pbr, dill, stevedore, qiskit-terra, qiskit\n",
      "Successfully installed dill-0.3.7 pbr-5.11.1 ply-3.11 psutil-5.9.6 qiskit-0.44.2 qiskit-terra-0.25.2.1 rustworkx-0.13.2 stevedore-5.1.0\n",
      "Note: you may need to restart the kernel to use updated packages.\n"
     ]
    },
    {
     "name": "stderr",
     "output_type": "stream",
     "text": [
      "\n",
      "[notice] A new release of pip is available: 23.2.1 -> 23.3.1\n",
      "[notice] To update, run: C:\\Users\\anura\\AppData\\Local\\Programs\\Python\\Python310\\python.exe -m pip install --upgrade pip\n"
     ]
    }
   ],
   "source": [
    "pip install qiskit "
   ]
  },
  {
   "cell_type": "code",
   "execution_count": 5,
   "id": "f67f4d06",
   "metadata": {},
   "outputs": [
    {
     "name": "stdout",
     "output_type": "stream",
     "text": [
      "Collecting qiskit_aer\n",
      "  Obtaining dependency information for qiskit_aer from https://files.pythonhosted.org/packages/2d/40/d87b536ce02acab64b96c2c27b213242c7bac13762d500f2dfe14a507c08/qiskit_aer-0.12.2-cp310-cp310-win_amd64.whl.metadata\n",
      "  Using cached qiskit_aer-0.12.2-cp310-cp310-win_amd64.whl.metadata (6.5 kB)\n",
      "Requirement already satisfied: qiskit[visualization] in c:\\users\\anura\\appdata\\local\\programs\\python\\python310\\lib\\site-packages (0.44.2)\n",
      "Requirement already satisfied: qiskit-terra>=0.21.0 in c:\\users\\anura\\appdata\\local\\programs\\python\\python310\\lib\\site-packages (from qiskit_aer) (0.25.2.1)\n",
      "Requirement already satisfied: numpy>=1.16.3 in c:\\users\\anura\\appdata\\local\\programs\\python\\python310\\lib\\site-packages (from qiskit_aer) (1.24.2)\n",
      "Requirement already satisfied: scipy>=1.0 in c:\\users\\anura\\appdata\\local\\programs\\python\\python310\\lib\\site-packages (from qiskit_aer) (1.8.0)\n",
      "Requirement already satisfied: rustworkx>=0.13.0 in c:\\users\\anura\\appdata\\local\\programs\\python\\python310\\lib\\site-packages (from qiskit-terra>=0.21.0->qiskit_aer) (0.13.2)\n",
      "Requirement already satisfied: ply>=3.10 in c:\\users\\anura\\appdata\\local\\programs\\python\\python310\\lib\\site-packages (from qiskit-terra>=0.21.0->qiskit_aer) (3.11)\n",
      "Requirement already satisfied: psutil>=5 in c:\\users\\anura\\appdata\\local\\programs\\python\\python310\\lib\\site-packages (from qiskit-terra>=0.21.0->qiskit_aer) (5.9.6)\n",
      "Requirement already satisfied: sympy>=1.3 in c:\\users\\anura\\appdata\\local\\programs\\python\\python310\\lib\\site-packages (from qiskit-terra>=0.21.0->qiskit_aer) (1.10.1)\n",
      "Requirement already satisfied: dill>=0.3 in c:\\users\\anura\\appdata\\local\\programs\\python\\python310\\lib\\site-packages (from qiskit-terra>=0.21.0->qiskit_aer) (0.3.7)\n",
      "Requirement already satisfied: python-dateutil>=2.8.0 in c:\\users\\anura\\appdata\\local\\programs\\python\\python310\\lib\\site-packages (from qiskit-terra>=0.21.0->qiskit_aer) (2.8.2)\n",
      "Requirement already satisfied: stevedore>=3.0.0 in c:\\users\\anura\\appdata\\local\\programs\\python\\python310\\lib\\site-packages (from qiskit-terra>=0.21.0->qiskit_aer) (5.1.0)\n",
      "Requirement already satisfied: typing-extensions in c:\\users\\anura\\appdata\\local\\programs\\python\\python310\\lib\\site-packages (from qiskit-terra>=0.21.0->qiskit_aer) (4.1.1)\n",
      "Requirement already satisfied: matplotlib>=3.3 in c:\\users\\anura\\appdata\\local\\programs\\python\\python310\\lib\\site-packages (from qiskit-terra>=0.21.0->qiskit_aer) (3.5.1)\n",
      "Requirement already satisfied: ipywidgets>=7.3.0 in c:\\users\\anura\\appdata\\local\\programs\\python\\python310\\lib\\site-packages (from qiskit-terra>=0.21.0->qiskit_aer) (7.6.5)\n",
      "Collecting pydot (from qiskit-terra>=0.21.0->qiskit_aer)\n",
      "  Downloading pydot-1.4.2-py2.py3-none-any.whl (21 kB)\n",
      "Requirement already satisfied: pillow>=4.2.1 in c:\\users\\anura\\appdata\\local\\programs\\python\\python310\\lib\\site-packages (from qiskit-terra>=0.21.0->qiskit_aer) (9.0.1)\n",
      "Collecting pylatexenc>=1.4 (from qiskit-terra>=0.21.0->qiskit_aer)\n",
      "  Downloading pylatexenc-2.10.tar.gz (162 kB)\n",
      "     ------------------------------------ 162.6/162.6 kB 814.7 kB/s eta 0:00:00\n",
      "  Preparing metadata (setup.py): started\n",
      "  Preparing metadata (setup.py): finished with status 'done'\n",
      "Requirement already satisfied: seaborn>=0.9.0 in c:\\users\\anura\\appdata\\local\\programs\\python\\python310\\lib\\site-packages (from qiskit-terra>=0.21.0->qiskit_aer) (0.12.2)\n",
      "Requirement already satisfied: pygments>=2.4 in c:\\users\\anura\\appdata\\local\\programs\\python\\python310\\lib\\site-packages (from qiskit-terra>=0.21.0->qiskit_aer) (2.11.2)\n",
      "Requirement already satisfied: ipykernel>=4.5.1 in c:\\users\\anura\\appdata\\local\\programs\\python\\python310\\lib\\site-packages (from ipywidgets>=7.3.0->qiskit-terra>=0.21.0->qiskit_aer) (6.9.1)\n",
      "Requirement already satisfied: ipython-genutils~=0.2.0 in c:\\users\\anura\\appdata\\local\\programs\\python\\python310\\lib\\site-packages (from ipywidgets>=7.3.0->qiskit-terra>=0.21.0->qiskit_aer) (0.2.0)\n",
      "Requirement already satisfied: traitlets>=4.3.1 in c:\\users\\anura\\appdata\\local\\programs\\python\\python310\\lib\\site-packages (from ipywidgets>=7.3.0->qiskit-terra>=0.21.0->qiskit_aer) (5.1.1)\n",
      "Requirement already satisfied: nbformat>=4.2.0 in c:\\users\\anura\\appdata\\local\\programs\\python\\python310\\lib\\site-packages (from ipywidgets>=7.3.0->qiskit-terra>=0.21.0->qiskit_aer) (5.1.3)\n",
      "Requirement already satisfied: widgetsnbextension~=3.5.0 in c:\\users\\anura\\appdata\\local\\programs\\python\\python310\\lib\\site-packages (from ipywidgets>=7.3.0->qiskit-terra>=0.21.0->qiskit_aer) (3.5.2)\n",
      "Requirement already satisfied: ipython>=4.0.0 in c:\\users\\anura\\appdata\\local\\programs\\python\\python310\\lib\\site-packages (from ipywidgets>=7.3.0->qiskit-terra>=0.21.0->qiskit_aer) (8.1.1)\n",
      "Requirement already satisfied: jupyterlab-widgets>=1.0.0 in c:\\users\\anura\\appdata\\local\\programs\\python\\python310\\lib\\site-packages (from ipywidgets>=7.3.0->qiskit-terra>=0.21.0->qiskit_aer) (1.0.2)\n",
      "Requirement already satisfied: cycler>=0.10 in c:\\users\\anura\\appdata\\local\\programs\\python\\python310\\lib\\site-packages (from matplotlib>=3.3->qiskit-terra>=0.21.0->qiskit_aer) (0.11.0)\n",
      "Requirement already satisfied: fonttools>=4.22.0 in c:\\users\\anura\\appdata\\local\\programs\\python\\python310\\lib\\site-packages (from matplotlib>=3.3->qiskit-terra>=0.21.0->qiskit_aer) (4.29.1)\n",
      "Requirement already satisfied: kiwisolver>=1.0.1 in c:\\users\\anura\\appdata\\local\\programs\\python\\python310\\lib\\site-packages (from matplotlib>=3.3->qiskit-terra>=0.21.0->qiskit_aer) (1.3.2)\n",
      "Requirement already satisfied: packaging>=20.0 in c:\\users\\anura\\appdata\\local\\programs\\python\\python310\\lib\\site-packages (from matplotlib>=3.3->qiskit-terra>=0.21.0->qiskit_aer) (21.3)\n",
      "Requirement already satisfied: pyparsing>=2.2.1 in c:\\users\\anura\\appdata\\local\\programs\\python\\python310\\lib\\site-packages (from matplotlib>=3.3->qiskit-terra>=0.21.0->qiskit_aer) (3.0.7)\n",
      "Note: you may need to restart the kernel to use updated packages.Requirement already satisfied: six>=1.5 in c:\\users\\anura\\appdata\\local\\programs\\python\\python310\\lib\\site-packages (from python-dateutil>=2.8.0->qiskit-terra>=0.21.0->qiskit_aer) (1.16.0)\n",
      "Requirement already satisfied: pandas>=0.25 in c:\\users\\anura\\appdata\\local\\programs\\python\\python310\\lib\\site-packages (from seaborn>=0.9.0->qiskit-terra>=0.21.0->qiskit_aer) (2.0.3)\n"
     ]
    },
    {
     "name": "stderr",
     "output_type": "stream",
     "text": [
      "\n",
      "[notice] A new release of pip is available: 23.2.1 -> 23.3.1\n",
      "[notice] To update, run: C:\\Users\\anura\\AppData\\Local\\Programs\\Python\\Python310\\python.exe -m pip install --upgrade pip\n"
     ]
    },
    {
     "name": "stdout",
     "output_type": "stream",
     "text": [
      "\n",
      "Requirement already satisfied: pbr!=2.1.0,>=2.0.0 in c:\\users\\anura\\appdata\\local\\programs\\python\\python310\\lib\\site-packages (from stevedore>=3.0.0->qiskit-terra>=0.21.0->qiskit_aer) (5.11.1)\n",
      "Requirement already satisfied: mpmath>=0.19 in c:\\users\\anura\\appdata\\local\\programs\\python\\python310\\lib\\site-packages (from sympy>=1.3->qiskit-terra>=0.21.0->qiskit_aer) (1.2.1)\n",
      "Requirement already satisfied: debugpy<2.0,>=1.0.0 in c:\\users\\anura\\appdata\\local\\programs\\python\\python310\\lib\\site-packages (from ipykernel>=4.5.1->ipywidgets>=7.3.0->qiskit-terra>=0.21.0->qiskit_aer) (1.5.1)\n",
      "Requirement already satisfied: jupyter-client<8.0 in c:\\users\\anura\\appdata\\local\\programs\\python\\python310\\lib\\site-packages (from ipykernel>=4.5.1->ipywidgets>=7.3.0->qiskit-terra>=0.21.0->qiskit_aer) (7.1.2)\n",
      "Requirement already satisfied: tornado<7.0,>=4.2 in c:\\users\\anura\\appdata\\local\\programs\\python\\python310\\lib\\site-packages (from ipykernel>=4.5.1->ipywidgets>=7.3.0->qiskit-terra>=0.21.0->qiskit_aer) (6.1)\n",
      "Requirement already satisfied: matplotlib-inline<0.2.0,>=0.1.0 in c:\\users\\anura\\appdata\\local\\programs\\python\\python310\\lib\\site-packages (from ipykernel>=4.5.1->ipywidgets>=7.3.0->qiskit-terra>=0.21.0->qiskit_aer) (0.1.3)\n",
      "Requirement already satisfied: nest-asyncio in c:\\users\\anura\\appdata\\local\\programs\\python\\python310\\lib\\site-packages (from ipykernel>=4.5.1->ipywidgets>=7.3.0->qiskit-terra>=0.21.0->qiskit_aer) (1.5.4)\n",
      "Requirement already satisfied: backcall in c:\\users\\anura\\appdata\\local\\programs\\python\\python310\\lib\\site-packages (from ipython>=4.0.0->ipywidgets>=7.3.0->qiskit-terra>=0.21.0->qiskit_aer) (0.2.0)\n",
      "Requirement already satisfied: decorator in c:\\users\\anura\\appdata\\local\\programs\\python\\python310\\lib\\site-packages (from ipython>=4.0.0->ipywidgets>=7.3.0->qiskit-terra>=0.21.0->qiskit_aer) (5.1.1)\n",
      "Requirement already satisfied: jedi>=0.16 in c:\\users\\anura\\appdata\\local\\programs\\python\\python310\\lib\\site-packages (from ipython>=4.0.0->ipywidgets>=7.3.0->qiskit-terra>=0.21.0->qiskit_aer) (0.18.1)\n",
      "Requirement already satisfied: pickleshare in c:\\users\\anura\\appdata\\local\\programs\\python\\python310\\lib\\site-packages (from ipython>=4.0.0->ipywidgets>=7.3.0->qiskit-terra>=0.21.0->qiskit_aer) (0.7.5)\n",
      "Requirement already satisfied: prompt-toolkit!=3.0.0,!=3.0.1,<3.1.0,>=2.0.0 in c:\\users\\anura\\appdata\\local\\programs\\python\\python310\\lib\\site-packages (from ipython>=4.0.0->ipywidgets>=7.3.0->qiskit-terra>=0.21.0->qiskit_aer) (3.0.28)\n",
      "Requirement already satisfied: setuptools>=18.5 in c:\\users\\anura\\appdata\\local\\programs\\python\\python310\\lib\\site-packages (from ipython>=4.0.0->ipywidgets>=7.3.0->qiskit-terra>=0.21.0->qiskit_aer) (58.1.0)\n",
      "Requirement already satisfied: stack-data in c:\\users\\anura\\appdata\\local\\programs\\python\\python310\\lib\\site-packages (from ipython>=4.0.0->ipywidgets>=7.3.0->qiskit-terra>=0.21.0->qiskit_aer) (0.2.0)\n",
      "Requirement already satisfied: colorama in c:\\users\\anura\\appdata\\local\\programs\\python\\python310\\lib\\site-packages (from ipython>=4.0.0->ipywidgets>=7.3.0->qiskit-terra>=0.21.0->qiskit_aer) (0.4.6)\n",
      "Requirement already satisfied: jsonschema!=2.5.0,>=2.4 in c:\\users\\anura\\appdata\\local\\programs\\python\\python310\\lib\\site-packages (from nbformat>=4.2.0->ipywidgets>=7.3.0->qiskit-terra>=0.21.0->qiskit_aer) (4.4.0)\n",
      "Requirement already satisfied: jupyter-core in c:\\users\\anura\\appdata\\local\\programs\\python\\python310\\lib\\site-packages (from nbformat>=4.2.0->ipywidgets>=7.3.0->qiskit-terra>=0.21.0->qiskit_aer) (4.9.2)\n",
      "Requirement already satisfied: pytz>=2020.1 in c:\\users\\anura\\appdata\\local\\programs\\python\\python310\\lib\\site-packages (from pandas>=0.25->seaborn>=0.9.0->qiskit-terra>=0.21.0->qiskit_aer) (2021.3)\n",
      "Requirement already satisfied: tzdata>=2022.1 in c:\\users\\anura\\appdata\\local\\programs\\python\\python310\\lib\\site-packages (from pandas>=0.25->seaborn>=0.9.0->qiskit-terra>=0.21.0->qiskit_aer) (2023.3)\n",
      "Requirement already satisfied: notebook>=4.4.1 in c:\\users\\anura\\appdata\\local\\programs\\python\\python310\\lib\\site-packages (from widgetsnbextension~=3.5.0->ipywidgets>=7.3.0->qiskit-terra>=0.21.0->qiskit_aer) (6.4.8)\n",
      "Requirement already satisfied: parso<0.9.0,>=0.8.0 in c:\\users\\anura\\appdata\\local\\programs\\python\\python310\\lib\\site-packages (from jedi>=0.16->ipython>=4.0.0->ipywidgets>=7.3.0->qiskit-terra>=0.21.0->qiskit_aer) (0.8.3)\n",
      "Requirement already satisfied: attrs>=17.4.0 in c:\\users\\anura\\appdata\\local\\programs\\python\\python310\\lib\\site-packages (from jsonschema!=2.5.0,>=2.4->nbformat>=4.2.0->ipywidgets>=7.3.0->qiskit-terra>=0.21.0->qiskit_aer) (21.4.0)\n",
      "Requirement already satisfied: pyrsistent!=0.17.0,!=0.17.1,!=0.17.2,>=0.14.0 in c:\\users\\anura\\appdata\\local\\programs\\python\\python310\\lib\\site-packages (from jsonschema!=2.5.0,>=2.4->nbformat>=4.2.0->ipywidgets>=7.3.0->qiskit-terra>=0.21.0->qiskit_aer) (0.18.1)\n",
      "Requirement already satisfied: entrypoints in c:\\users\\anura\\appdata\\local\\programs\\python\\python310\\lib\\site-packages (from jupyter-client<8.0->ipykernel>=4.5.1->ipywidgets>=7.3.0->qiskit-terra>=0.21.0->qiskit_aer) (0.4)\n",
      "Requirement already satisfied: pyzmq>=13 in c:\\users\\anura\\appdata\\local\\programs\\python\\python310\\lib\\site-packages (from jupyter-client<8.0->ipykernel>=4.5.1->ipywidgets>=7.3.0->qiskit-terra>=0.21.0->qiskit_aer) (22.3.0)\n",
      "Requirement already satisfied: pywin32>=1.0 in c:\\users\\anura\\appdata\\local\\programs\\python\\python310\\lib\\site-packages (from jupyter-core->nbformat>=4.2.0->ipywidgets>=7.3.0->qiskit-terra>=0.21.0->qiskit_aer) (303)\n",
      "Requirement already satisfied: jinja2 in c:\\users\\anura\\appdata\\local\\programs\\python\\python310\\lib\\site-packages (from notebook>=4.4.1->widgetsnbextension~=3.5.0->ipywidgets>=7.3.0->qiskit-terra>=0.21.0->qiskit_aer) (3.1.2)\n",
      "Requirement already satisfied: argon2-cffi in c:\\users\\anura\\appdata\\local\\programs\\python\\python310\\lib\\site-packages (from notebook>=4.4.1->widgetsnbextension~=3.5.0->ipywidgets>=7.3.0->qiskit-terra>=0.21.0->qiskit_aer) (21.3.0)\n",
      "Requirement already satisfied: nbconvert in c:\\users\\anura\\appdata\\local\\programs\\python\\python310\\lib\\site-packages (from notebook>=4.4.1->widgetsnbextension~=3.5.0->ipywidgets>=7.3.0->qiskit-terra>=0.21.0->qiskit_aer) (6.4.2)\n",
      "Requirement already satisfied: Send2Trash>=1.8.0 in c:\\users\\anura\\appdata\\local\\programs\\python\\python310\\lib\\site-packages (from notebook>=4.4.1->widgetsnbextension~=3.5.0->ipywidgets>=7.3.0->qiskit-terra>=0.21.0->qiskit_aer) (1.8.0)\n",
      "Requirement already satisfied: terminado>=0.8.3 in c:\\users\\anura\\appdata\\local\\programs\\python\\python310\\lib\\site-packages (from notebook>=4.4.1->widgetsnbextension~=3.5.0->ipywidgets>=7.3.0->qiskit-terra>=0.21.0->qiskit_aer) (0.13.3)\n",
      "Requirement already satisfied: prometheus-client in c:\\users\\anura\\appdata\\local\\programs\\python\\python310\\lib\\site-packages (from notebook>=4.4.1->widgetsnbextension~=3.5.0->ipywidgets>=7.3.0->qiskit-terra>=0.21.0->qiskit_aer) (0.13.1)\n",
      "Requirement already satisfied: wcwidth in c:\\users\\anura\\appdata\\local\\programs\\python\\python310\\lib\\site-packages (from prompt-toolkit!=3.0.0,!=3.0.1,<3.1.0,>=2.0.0->ipython>=4.0.0->ipywidgets>=7.3.0->qiskit-terra>=0.21.0->qiskit_aer) (0.2.5)\n",
      "Requirement already satisfied: executing in c:\\users\\anura\\appdata\\local\\programs\\python\\python310\\lib\\site-packages (from stack-data->ipython>=4.0.0->ipywidgets>=7.3.0->qiskit-terra>=0.21.0->qiskit_aer) (0.8.3)\n",
      "Requirement already satisfied: asttokens in c:\\users\\anura\\appdata\\local\\programs\\python\\python310\\lib\\site-packages (from stack-data->ipython>=4.0.0->ipywidgets>=7.3.0->qiskit-terra>=0.21.0->qiskit_aer) (2.0.5)\n",
      "Requirement already satisfied: pure-eval in c:\\users\\anura\\appdata\\local\\programs\\python\\python310\\lib\\site-packages (from stack-data->ipython>=4.0.0->ipywidgets>=7.3.0->qiskit-terra>=0.21.0->qiskit_aer) (0.2.2)\n",
      "Requirement already satisfied: pywinpty>=1.1.0 in c:\\users\\anura\\appdata\\local\\programs\\python\\python310\\lib\\site-packages (from terminado>=0.8.3->notebook>=4.4.1->widgetsnbextension~=3.5.0->ipywidgets>=7.3.0->qiskit-terra>=0.21.0->qiskit_aer) (2.0.5)\n",
      "Requirement already satisfied: argon2-cffi-bindings in c:\\users\\anura\\appdata\\local\\programs\\python\\python310\\lib\\site-packages (from argon2-cffi->notebook>=4.4.1->widgetsnbextension~=3.5.0->ipywidgets>=7.3.0->qiskit-terra>=0.21.0->qiskit_aer) (21.2.0)\n",
      "Requirement already satisfied: MarkupSafe>=2.0 in c:\\users\\anura\\appdata\\local\\programs\\python\\python310\\lib\\site-packages (from jinja2->notebook>=4.4.1->widgetsnbextension~=3.5.0->ipywidgets>=7.3.0->qiskit-terra>=0.21.0->qiskit_aer) (2.1.3)\n",
      "Requirement already satisfied: mistune<2,>=0.8.1 in c:\\users\\anura\\appdata\\local\\programs\\python\\python310\\lib\\site-packages (from nbconvert->notebook>=4.4.1->widgetsnbextension~=3.5.0->ipywidgets>=7.3.0->qiskit-terra>=0.21.0->qiskit_aer) (0.8.4)\n",
      "Requirement already satisfied: jupyterlab-pygments in c:\\users\\anura\\appdata\\local\\programs\\python\\python310\\lib\\site-packages (from nbconvert->notebook>=4.4.1->widgetsnbextension~=3.5.0->ipywidgets>=7.3.0->qiskit-terra>=0.21.0->qiskit_aer) (0.1.2)\n",
      "Requirement already satisfied: bleach in c:\\users\\anura\\appdata\\local\\programs\\python\\python310\\lib\\site-packages (from nbconvert->notebook>=4.4.1->widgetsnbextension~=3.5.0->ipywidgets>=7.3.0->qiskit-terra>=0.21.0->qiskit_aer) (4.1.0)\n",
      "Requirement already satisfied: pandocfilters>=1.4.1 in c:\\users\\anura\\appdata\\local\\programs\\python\\python310\\lib\\site-packages (from nbconvert->notebook>=4.4.1->widgetsnbextension~=3.5.0->ipywidgets>=7.3.0->qiskit-terra>=0.21.0->qiskit_aer) (1.5.0)\n",
      "Requirement already satisfied: testpath in c:\\users\\anura\\appdata\\local\\programs\\python\\python310\\lib\\site-packages (from nbconvert->notebook>=4.4.1->widgetsnbextension~=3.5.0->ipywidgets>=7.3.0->qiskit-terra>=0.21.0->qiskit_aer) (0.6.0)\n",
      "Requirement already satisfied: defusedxml in c:\\users\\anura\\appdata\\local\\programs\\python\\python310\\lib\\site-packages (from nbconvert->notebook>=4.4.1->widgetsnbextension~=3.5.0->ipywidgets>=7.3.0->qiskit-terra>=0.21.0->qiskit_aer) (0.7.1)\n",
      "Requirement already satisfied: nbclient<0.6.0,>=0.5.0 in c:\\users\\anura\\appdata\\local\\programs\\python\\python310\\lib\\site-packages (from nbconvert->notebook>=4.4.1->widgetsnbextension~=3.5.0->ipywidgets>=7.3.0->qiskit-terra>=0.21.0->qiskit_aer) (0.5.12)\n",
      "Requirement already satisfied: cffi>=1.0.1 in c:\\users\\anura\\appdata\\local\\programs\\python\\python310\\lib\\site-packages (from argon2-cffi-bindings->argon2-cffi->notebook>=4.4.1->widgetsnbextension~=3.5.0->ipywidgets>=7.3.0->qiskit-terra>=0.21.0->qiskit_aer) (1.15.0)\n",
      "Requirement already satisfied: webencodings in c:\\users\\anura\\appdata\\local\\programs\\python\\python310\\lib\\site-packages (from bleach->nbconvert->notebook>=4.4.1->widgetsnbextension~=3.5.0->ipywidgets>=7.3.0->qiskit-terra>=0.21.0->qiskit_aer) (0.5.1)\n",
      "Requirement already satisfied: pycparser in c:\\users\\anura\\appdata\\local\\programs\\python\\python310\\lib\\site-packages (from cffi>=1.0.1->argon2-cffi-bindings->argon2-cffi->notebook>=4.4.1->widgetsnbextension~=3.5.0->ipywidgets>=7.3.0->qiskit-terra>=0.21.0->qiskit_aer) (2.21)\n",
      "Downloading qiskit_aer-0.12.2-cp310-cp310-win_amd64.whl (9.6 MB)\n",
      "   ---------------------------------------- 9.6/9.6 MB 2.0 MB/s eta 0:00:00\n",
      "Building wheels for collected packages: pylatexenc\n",
      "  Building wheel for pylatexenc (setup.py): started\n",
      "  Building wheel for pylatexenc (setup.py): finished with status 'done'\n",
      "  Created wheel for pylatexenc: filename=pylatexenc-2.10-py3-none-any.whl size=136835 sha256=c1f1be2f1f39ff7160d6909d512acd31834662fd1af41bde0aef486a31840895\n",
      "  Stored in directory: c:\\users\\anura\\appdata\\local\\pip\\cache\\wheels\\d3\\31\\8b\\e09b0386afd80cfc556c00408c9aeea5c35c4d484a9c762fd5\n",
      "Successfully built pylatexenc\n",
      "Installing collected packages: pylatexenc, pydot, qiskit_aer\n",
      "Successfully installed pydot-1.4.2 pylatexenc-2.10 qiskit_aer-0.12.2\n"
     ]
    }
   ],
   "source": [
    "pip install qiskit_aer qiskit[visualization]"
   ]
  },
  {
   "cell_type": "code",
   "execution_count": 6,
   "id": "72700313",
   "metadata": {},
   "outputs": [
    {
     "name": "stdout",
     "output_type": "stream",
     "text": [
      "\n",
      "Total count for 00 and 11 are: {'11': 521, '00': 479}\n"
     ]
    },
    {
     "data": {
      "image/png": "[encoded data removed]",
      "text/plain": [
       "<Figure size 327.252x204.68 with 1 Axes>"
      ]
     },
     "execution_count": 6,
     "metadata": {},
     "output_type": "execute_result"
    }
   ],
   "source": [
    "from qiskit import QuantumCircuit, transpile\n",
    "from qiskit_aer import AerSimulator\n",
    "from qiskit.visualization import plot_histogram\n",
    "\n",
    "# Use Aer's AerSimulator\n",
    "simulator = AerSimulator()\n",
    "\n",
    "# Create a Quantum Circuit acting on the q register\n",
    "circuit = QuantumCircuit(2, 2)\n",
    "\n",
    "# Add a H gate on qubit 0\n",
    "circuit.h(0)\n",
    "\n",
    "# Add a CX (CNOT) gate on control qubit 0 and target qubit 1\n",
    "circuit.cx(0, 1)\n",
    "\n",
    "# Map the quantum measurement to the classical bits\n",
    "circuit.measure([0, 1], [0, 1])\n",
    "\n",
    "# Compile the circuit for the support instruction set (basis_gates)\n",
    "# and topology (coupling_map) of the backend\n",
    "compiled_circuit = transpile(circuit, simulator)\n",
    "\n",
    "# Execute the circuit on the aer simulator\n",
    "job = simulator.run(compiled_circuit, shots=1000)\n",
    "\n",
    "# Grab results from the job\n",
    "result = job.result()\n",
    "\n",
    "# Returns counts\n",
    "counts = result.get_counts(compiled_circuit)\n",
    "print(\"\\nTotal count for 00 and 11 are:\", counts)\n",
    "\n",
    "# Draw the circuit\n",
    "circuit.draw(\"mpl\")"
   ]
  },
  {
   "cell_type": "code",
   "execution_count": null,
   "id": "e0f5ecb7",
   "metadata": {},
   "outputs": [],
   "source": []
  }
 ],
 "metadata": {
  "kernelspec": {
   "display_name": "Python 3 (ipykernel)",
   "language": "python",
   "name": "python3"
  },
  "language_info": {
   "codemirror_mode": {
    "name": "ipython",
    "version": 3
   },
   "file_extension": ".py",
   "mimetype": "text/x-python",
   "name": "python",
   "nbconvert_exporter": "python",
   "pygments_lexer": "ipython3",
   "version": "3.10.2"
  }
 },
 "nbformat": 4,
 "nbformat_minor": 5
}
